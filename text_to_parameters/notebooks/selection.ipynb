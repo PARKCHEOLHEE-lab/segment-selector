{
 "cells": [
  {
   "cell_type": "code",
   "execution_count": 1,
   "metadata": {},
   "outputs": [],
   "source": [
    "import os\n",
    "import sys\n",
    "\n",
    "from agents import Agent, Runner\n",
    "\n",
    "sys.path.append(os.path.abspath(\"../\"))\n",
    "\n",
    "from src.testsets import TestSets\n",
    "from src.selector import SegmentSelector, SegmentSelectorConfiguration, SegmentSelectorOutput"
   ]
  },
  {
   "cell_type": "code",
   "execution_count": null,
   "metadata": {},
   "outputs": [],
   "source": [
    "\n",
    "segment_selection_agent = Agent(\n",
    "    name=SegmentSelectorConfiguration.NAME,\n",
    "    model=SegmentSelectorConfiguration.MODEL_NAME,\n",
    "    model_settings=SegmentSelectorConfiguration.MODEL_SETTINGS,\n",
    "    instructions=SegmentSelectorConfiguration.INSTRUCTIONS,\n",
    "    output_type=SegmentSelectorOutput,\n",
    "    tools=[SegmentSelector.select_polygon_segments],\n",
    ")\n",
    "\n",
    "for request in TestSets.TestcaseA.TEXTS:\n",
    "    response = Runner.run_sync(segment_selection_agent, request)"
   ]
  }
 ],
 "metadata": {
  "language_info": {
   "name": "python"
  }
 },
 "nbformat": 4,
 "nbformat_minor": 2
}
